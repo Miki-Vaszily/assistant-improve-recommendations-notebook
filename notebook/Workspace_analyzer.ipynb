{
 "cells": [
  {
   "cell_type": "code",
   "execution_count": 1,
   "metadata": {},
   "outputs": [],
   "source": [
    "import json\n",
    "import copy\n",
    "import re\n",
    "from watson_developer_cloud import AssistantV1"
   ]
  },
  {
   "cell_type": "code",
   "execution_count": 2,
   "metadata": {},
   "outputs": [],
   "source": [
    "# load workspace from json\n",
    "with open(\"data/workspace.json\", mode='r') as file:\n",
    "        workspace = json.load(file)"
   ]
  },
  {
   "cell_type": "code",
   "execution_count": null,
   "metadata": {},
   "outputs": [],
   "source": [
    "# load workspace form credentials\n",
    "creds = {'username':'{username}',\n",
    "         'password': '{password}',\n",
    "         'version':'2019-02-28',\n",
    "         'url': '{url}'}\n",
    "\n",
    "service = AssistantV1(username=creads['username'],\n",
    "                      password=creds['password'],\n",
    "                      version=creds['version'],\n",
    "                      url=creds['url'])\n",
    "workspace_id = ''\n",
    "workspace = service.get_workspace(workspace_id = workspace_id, export=True).get_result()"
   ]
  },
  {
   "cell_type": "code",
   "execution_count": 3,
   "metadata": {},
   "outputs": [],
   "source": [
    "condition_list = []\n",
    "analysis_results_list = []\n",
    "#workspace = None\n",
    "intents = []\n",
    "entities = []\n",
    "dialog_nodes = []\n",
    "if 'intents' in workspace:\n",
    "    intents_list = copy.deepcopy(workspace['intents'])\n",
    "    for intent in intents_list:\n",
    "        intents.append('#' + intent.get('intent', None))\n",
    "    intents_set = set(intents)\n",
    "        \n",
    "if 'entities' in workspace:\n",
    "    entities_list = copy.deepcopy(workspace['entities'])\n",
    "    for entity in entities_list:\n",
    "        entities.append('@' + entity.get('entity', None))\n",
    "    entities_set = set(entities)\n",
    "    \n",
    "if 'dialog_nodes' in workspace:\n",
    "    dialog_nodes = copy.deepcopy(workspace['dialog_nodes'])\n",
    "    for dialog_node in dialog_nodes:\n",
    "        if 'conditions' in dialog_node:\n",
    "            condition_list.append((dialog_node['dialog_node'], dialog_node['conditions']))"
   ]
  },
  {
   "cell_type": "code",
   "execution_count": 4,
   "metadata": {},
   "outputs": [],
   "source": [
    "# BROKEN INTENTS and NOT USED INTENTS\n",
    "dialog_node_intents = []\n",
    "for node, condition in condition_list:\n",
    "    intent_list = re.findall(r'#[a-zA-z0-9_]*',condition)\n",
    "    dialog_node_intents.append((node, intent_list))\n",
    "\n",
    "# check if all intents in dialog_node_intents are exists in intents_set\n",
    "problematic_dialog_node_intents = []\n",
    "not_used_intents = set()\n",
    "for dialog_node, dialog_node_intents_list in dialog_node_intents:\n",
    "    for node_intent in dialog_node_intents_list:\n",
    "        if node_intent not in intents_set:\n",
    "            problematic_dialog_node_intents.append((dialog_node, node_intent))\n",
    "        else:\n",
    "            not_used_intents.add(node_intent)\n",
    "            \n",
    "not_used_intents = intents_set - not_used_intents\n",
    "not_used_intents = list(sorted(not_used_intents))\n",
    "# analysis_results_list = [{'analysis_name': \"Broken intents in nodes conditions analysis\", 'description': \"intent from a condition not found in workspace's intents\", 'result_data': problematic_dialog_node_intents}]\n",
    "analysis_results_list.append({'analysis_name': \"Broken intents in nodes conditions analysis\", 'description': \"intent from a condition not found in workspace's intents\", 'result_data': problematic_dialog_node_intents})\n",
    "analysis_results_list.append({'analysis_name': \"Not used intents in nodes conditions analysis\", 'description': \"intent from a condition not found in workspace's intents\", 'result_data': not_used_intents})"
   ]
  },
  {
   "cell_type": "code",
   "execution_count": 5,
   "metadata": {},
   "outputs": [],
   "source": [
    "# BROKEN ENTITIES\n",
    "dialog_node_entities = []\n",
    "for node, condition in condition_list:\n",
    "    entity_list = re.findall(r'@[a-zA-z0-9_]*', condition)\n",
    "    dialog_node_entities.append((node, entity_list))\n",
    "\n",
    "# chech if all entities in dialog_node_entities are exists in entities_set\n",
    "problematic_dialog_node_entities = []\n",
    "for dialog_node, dialog_node_entities_list in dialog_node_entities:\n",
    "    for node_entity in dialog_node_entities_list:\n",
    "        if node_entity not in entities_set:\n",
    "            problematic_dialog_node_entities.append((dialog_node, node_entity))\n",
    "\n",
    "analysis_results_list.append({'analysis_name': \"Broken entities in nodes conditions analysis\", 'description': \"entity from a condition not found in workspace's entities\", 'result_data': problematic_dialog_node_entities})"
   ]
  },
  {
   "cell_type": "code",
   "execution_count": 6,
   "metadata": {},
   "outputs": [
    {
     "name": "stdout",
     "output_type": "stream",
     "text": [
      "-------------------RESULTS-------------------\n",
      "analysis number  1\n",
      "analysis name:  Broken intents in nodes conditions analysis\n",
      "description:  intent from a condition not found in workspace's intents\n",
      "n. errors:  0\n",
      "----------------------------------------\n",
      "analysis number  2\n",
      "analysis name:  Not used intents in nodes conditions analysis\n",
      "description:  intent from a condition not found in workspace's intents\n",
      "n. errors:  7\n",
      "ERROR:  #decision_replies\n",
      "ERROR:  #interface_interactions\n",
      "ERROR:  #interface_issues\n",
      "ERROR:  #navigation\n",
      "ERROR:  #positive_reaction\n",
      "ERROR:  #selections\n",
      "ERROR:  #system_reliance\n",
      "----------------------------------------\n",
      "analysis number  3\n",
      "analysis name:  Broken entities in nodes conditions analysis\n",
      "description:  entity from a condition not found in workspace's entities\n",
      "n. errors:  21\n",
      "ERROR:  ('node_6_1488752733255', '@sys')\n",
      "ERROR:  ('node_4_1489442065546', '@sys')\n",
      "ERROR:  ('node_4_1489442065546', '@sys')\n",
      "ERROR:  ('node_3_1488775609591', '@sys')\n",
      "ERROR:  ('node_28_1488772086007', '@sys')\n",
      "ERROR:  ('node_27_1488772023321', '@sys')\n",
      "ERROR:  ('node_27_1488772023321', '@sys')\n",
      "ERROR:  ('node_4_1488752569375', '@sys')\n",
      "ERROR:  ('node_19_1467234523021', '@sys')\n",
      "ERROR:  ('node_16_1489450489709', '@sys')\n",
      "ERROR:  ('node_8_1488753488961', '@sys')\n",
      "ERROR:  ('node_11_1489445991375', '@sys')\n",
      "ERROR:  ('node_11_1489445991375', '@sys')\n",
      "ERROR:  ('node_21_1488771735577', '@sys')\n",
      "ERROR:  ('node_14_1489448869178', '@sys')\n",
      "ERROR:  ('node_15_1488765574076', '@sys')\n",
      "ERROR:  ('node_17_1488765742488', '@sys')\n",
      "ERROR:  ('node_17_1488765742488', '@sys')\n",
      "ERROR:  ('node_16_1488765680256', '@sys')\n",
      "ERROR:  ('node_17_1467234455512', '@sys')\n",
      "ERROR:  ('node_15_1489450441740', '@sys')\n",
      "----------------------------------------\n"
     ]
    }
   ],
   "source": [
    "print(\"-------------------RESULTS-------------------\")\n",
    "for count, analysis_errors in enumerate(analysis_results_list):\n",
    "    \n",
    "    print(\"analysis number \", count+1)\n",
    "    print(\"analysis name: \", analysis_errors['analysis_name'])\n",
    "    print(\"description: \", analysis_errors['description'])\n",
    "    print(\"n. errors: \", len(analysis_errors['result_data']))\n",
    "    for error in analysis_errors['result_data']:\n",
    "        print(\"ERROR: \", error)\n",
    "    print('-'*40)"
   ]
  },
  {
   "cell_type": "code",
   "execution_count": null,
   "metadata": {},
   "outputs": [],
   "source": []
  }
 ],
 "metadata": {
  "kernelspec": {
   "display_name": "Python 3",
   "language": "python",
   "name": "python3"
  },
  "language_info": {
   "codemirror_mode": {
    "name": "ipython",
    "version": 3
   },
   "file_extension": ".py",
   "mimetype": "text/x-python",
   "name": "python",
   "nbconvert_exporter": "python",
   "pygments_lexer": "ipython3",
   "version": "3.5.2"
  }
 },
 "nbformat": 4,
 "nbformat_minor": 2
}
