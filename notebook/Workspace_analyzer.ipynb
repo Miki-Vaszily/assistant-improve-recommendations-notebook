{
 "cells": [
  {
   "cell_type": "code",
   "execution_count": 1,
   "metadata": {},
   "outputs": [],
   "source": [
    "import json\n",
    "import copy\n",
    "import re\n",
    "# from watson_developer_cloud import AssistantV1\n",
    "from ibm_watson import AssistantV1\n",
    "from ibm_cloud_sdk_core.authenticators import IAMAuthenticator\n",
    "from pandas.io.json import json_normalize\n",
    "import pandas as pd\n",
    "import datetime\n",
    "import numpy as np\n",
    "import operator\n",
    "import sys\n",
    "sys.path.insert(1, '../src/main/python/')\n",
    "import utils\n",
    "from visualize_func import RenderJSON\n",
    "from IPython.display import HTML, display, IFrame"
   ]
  },
  {
   "cell_type": "code",
   "execution_count": 3,
   "metadata": {},
   "outputs": [
    {
     "data": {
      "text/html": [
       "<div id=\"a1234d1f-27a7-4485-9f33-2c397ad148a8\" style=\"height: 600px; width:100%;\"></div>"
      ]
     },
     "metadata": {},
     "output_type": "display_data"
    },
    {
     "data": {
      "application/javascript": [
       "\n",
       "        require([\"https://rawgit.com/caldwell/renderjson/master/renderjson.js\"], function() {\n",
       "        document.getElementById('a1234d1f-27a7-4485-9f33-2c397ad148a8').appendChild(renderjson({\"root\": \"root\", \"n_of_conversations\": 9289, \"children\": [{\"n_of_conversations\": 9, \"dialog_node\": \"node_1_1467919680248\", \"children\": [{\"n_of_conversations\": 8, \"dialog_node\": \"node_12_1485227162156\", \"previous_sibling\": \"node_13_1485227255152\", \"output\": {\"text\": {\"values\": [\"I'm not sure about that. You can say things like \\\"Turn on my lights\\\" or \\\"Play some music.\\\"\"], \"selection_policy\": \"sequential\"}}, \"name\": \"$default_counter<3\"}, {\"n_of_conversations\": 1, \"dialog_node\": \"node_13_1485227255152\", \"name\": \"$default_counter>2\", \"output\": {\"text\": {\"values\": [\"I am having trouble understanding you. Try asking your question in a different way.\"]}}}], \"name\": \"true\"}, {\"n_of_conversations\": 10, \"dialog_node\": \"node_12_1467233032148\", \"children\": [], \"name\": \"true\"}, {\"n_of_conversations\": 118, \"dialog_node\": \"node_1_1469815492101\", \"children\": [{\"n_of_conversations\": 78, \"dialog_node\": \"Appliance Increase Decrease Check\", \"previous_sibling\": \"node_4_1485218096234\", \"output\": {}, \"name\": \"Appliance Increase Decrease Check\"}, {\"n_of_conversations\": 26, \"dialog_node\": \"node_4_1485218096234\", \"name\": \"@appliance:music && ! @genre && $musiconoff == \\\"off\\\"\", \"output\": {}}], \"name\": \"@appliance\"}, {\"n_of_conversations\": 1, \"dialog_node\": \"node_10_1467233806357\", \"children\": [{\"n_of_conversations\": 0, \"dialog_node\": \"node_14_1467234311677\", \"previous_sibling\": \"node_7_1469824258064\", \"output\": {\"text\": {\"values\": [\"I see a few restaurants nearby which you can select from, serving tacos, burgers, seafood and pasta. Which cuisine would you like?\"]}}, \"name\": \"$reprompt\"}, {\"n_of_conversations\": 0, \"dialog_node\": \"node_4_1469812033731\", \"previous_sibling\": \"node_14_1467234311677\", \"output\": {}, \"name\": \"true\"}, {\"n_of_conversations\": 0, \"dialog_node\": \"node_7_1469824258064\", \"previous_sibling\": \"node_9_1468364300050\", \"output\": {\"text\": {\"values\": [\"I love tacos. I'm sure you'll love them too! Which restaurant do you want to drive to?\"]}}, \"name\": \"#not_specified\"}, {\"n_of_conversations\": 0, \"dialog_node\": \"node_9_1468364300050\", \"previous_sibling\": \"node_13_1467234287024\", \"output\": {\"text\": \"It doesn't look like there are any restaurants that serve @cuisine_bad around you. Try saying things like burgers or tacos.\"}, \"name\": \"@cuisine_bad\"}, {\"n_of_conversations\": 0, \"dialog_node\": \"node_13_1467234287024\", \"name\": \"@cuisine\", \"output\": {\"action\": {\"restaurant\": \"\"}, \"text\": {\"values\": [\"Super! I've found 5 locations for you. Which one would you like to drive to?\"]}}}], \"name\": \"@amenity:restaurant\"}, {\"n_of_conversations\": 2, \"dialog_node\": \"node_5_1469821256750\", \"children\": [], \"name\": \"@amenity:place\"}, {\"n_of_conversations\": 1, \"dialog_node\": \"node_11_1467233815579\", \"children\": [{\"n_of_conversations\": 0, \"dialog_node\": \"node_20_1467234565322\", \"previous_sibling\": \"node_8_1469824417089\", \"output\": {\"text\": {\"values\": [\"I found 5 locations. Which @amenity would you like? You can say first, third, nearest and so on.\"]}}, \"name\": \"$reprompt\"}, {\"n_of_conversations\": 0, \"dialog_node\": \"node_19_1467234523021\", \"previous_sibling\": \"node_16_1489450489709\", \"output\": {}, \"name\": \"@option || @sys-number\"}, {\"n_of_conversations\": 0, \"dialog_node\": \"node_8_1469824417089\", \"previous_sibling\": \"node_19_1467234523021\", \"output\": {\"text\": \"Ok. Navigating to the closest restroom.\"}, \"name\": \"#not_specified\"}, {\"n_of_conversations\": 0, \"dialog_node\": \"node_2_1469811953121\", \"previous_sibling\": \"node_20_1467234565322\", \"output\": {}, \"name\": \"true\"}, {\"n_of_conversations\": 0, \"dialog_node\": \"node_16_1489450489709\", \"name\": \"@sys-number > 5\", \"output\": {}}], \"name\": \"@amenity:restroom\"}, {\"n_of_conversations\": 7, \"dialog_node\": \"node_4_1489442065546\", \"children\": [{\"n_of_conversations\": 0, \"dialog_node\": \"node_10_1489445960772\", \"name\": \"true\", \"output\": {}}], \"name\": \"! @sys-time && ! @sys-date\"}, {\"n_of_conversations\": 21, \"dialog_node\": \"node_2_1467994543354\", \"children\": [], \"name\": \"$reprompt\"}, {\"n_of_conversations\": 3, \"dialog_node\": \"node_1_1467910920863\", \"children\": [{\"n_of_conversations\": 0, \"dialog_node\": \"node_9_1485225762958\", \"previous_sibling\": \"node_8_1485225738359\", \"output\": {\"text\": {\"values\": [\"Sorry I haven't learned answers to questions like this.\"], \"selection_policy\": \"sequential\"}}, \"name\": \"intents[0].confidence<0.51\"}, {\"n_of_conversations\": 3, \"dialog_node\": \"node_8_1485225738359\", \"name\": \" intents[0].confidence>0.5\", \"output\": {\"action\": {\"call_discovery\": \"\"}, \"text\": {\"values\": [\"That question is out of scope for this application, take a look at the Conversation Enhanced application to handle questions like these.\"]}}}], \"name\": \"true\"}, {\"n_of_conversations\": 7, \"dialog_node\": \"node_20_1467234565322\", \"children\": [], \"name\": \"$reprompt\"}, {\"n_of_conversations\": 1, \"dialog_node\": \"node_19_1467234523021\", \"children\": [{\"n_of_conversations\": 1, \"dialog_node\": \"node_8_1488753488961\", \"previous_sibling\": \"node_7_1488753488483\", \"output\": {\"text\": {\"values\": [\"Sure! Navigating to restroom @sys-number on the list. We should be there soon.\"], \"selection_policy\": \"sequential\"}}, \"name\": \" @sys-number\"}, {\"n_of_conversations\": 0, \"dialog_node\": \"node_7_1488753488483\", \"name\": \" @option\", \"output\": {\"text\": \"Ok. Navigating to the @option restroom. We should get there quickly.\"}}], \"name\": \"@option || @sys-number\"}, {\"n_of_conversations\": 4, \"dialog_node\": \"node_2_1469811953121\", \"children\": [], \"name\": \"true\"}, {\"n_of_conversations\": 32, \"dialog_node\": \"node_4_1469816307739\", \"children\": [], \"name\": \"entities.size()>1\"}, {\"n_of_conversations\": 112, \"dialog_node\": \"node_1_1467310860502\", \"children\": [], \"name\": \"true\"}, {\"n_of_conversations\": 821, \"dialog_node\": \"node_2_1467232480480\", \"children\": [{\"n_of_conversations\": 453, \"dialog_node\": \"Appliance On Off Check\", \"previous_sibling\": \"Music Appliance Check\", \"output\": {}, \"name\": \"Appliance On Off Check\"}, {\"n_of_conversations\": 210, \"dialog_node\": \"Music Appliance Check\", \"name\": \"Music Appliance Check\", \"output\": {\"text\": {\"values\": [\"Sure thing! Which genre would you prefer? Jazz is my personal favorite.\"]}}}], \"name\": \"@appliance\"}, {\"n_of_conversations\": 1, \"dialog_node\": \"node_6_1469049958082\", \"children\": [], \"name\": \"@genre_bad\"}, {\"n_of_conversations\": 125, \"dialog_node\": \"node_5_1469049934217\", \"children\": [{\"n_of_conversations\": 119, \"dialog_node\": \"Genre On Off Check\", \"name\": \"Genre On Off Check\", \"output\": {}}], \"name\": \"@genre\"}, {\"n_of_conversations\": 1, \"dialog_node\": \"Appliance Increase Decrease Check\", \"children\": [{\"n_of_conversations\": 0, \"dialog_node\": \"node_13_1486346882654\", \"previous_sibling\": \"node_12_1486346698626\", \"output\": {\"action\": {\"volume_down\": \"\"}, \"text\": {\"values\": [\"I've turned down the @appliance for you.\"]}}, \"name\": \"@appliance:volume && $appl_action == \\\"decrease\\\" && $volumeonoff == \\\"on\\\"\"}, {\"n_of_conversations\": 0, \"dialog_node\": \"node_10_1484797207324\", \"previous_sibling\": \"node_9_1484797153278\", \"output\": {\"action\": {\"lights_on\": \"\"}, \"text\": {\"values\": [\"It looks like the @appliance are off. I'll turn them on for you.\"]}}, \"name\": \"@appliance:lights && $lightonoff== \\\"off\\\"\"}, {\"n_of_conversations\": 0, \"dialog_node\": \"node_4_1484791860569\", \"previous_sibling\": \"node_2_1484787801871\", \"output\": {\"action\": {\"AC_down\": \"\"}, \"text\": {\"values\": [\"I've turned down the @appliance for you.\"]}}, \"name\": \"(@appliance:AC || @appliance:fan) && $appl_action == \\\"decrease\\\" && $AConoff == \\\"on\\\"\"}, {\"n_of_conversations\": 0, \"dialog_node\": \"node_12_1484798414002\", \"previous_sibling\": \"node_11_1484798219507\", \"output\": {\"action\": {\"music_down\": \"\"}, \"text\": {\"values\": [\"I've turned down the @appliance for you.\"]}}, \"name\": \"@appliance:music && $appl_action == \\\"decrease\\\" && $musiconoff == \\\"on\\\"\"}, {\"n_of_conversations\": 0, \"dialog_node\": \"node_6_1484792250784\", \"previous_sibling\": \"node_5_1484792124067\", \"output\": {\"action\": {\"heater_down\": \"\"}, \"text\": {\"values\": [\"I've turned down the @appliance for you.\"]}}, \"name\": \"@appliance:heater && $appl_action == \\\"decrease\\\" && $heateronoff== \\\"on\\\"\"}, {\"n_of_conversations\": 0, \"dialog_node\": \"node_14_1486346977763\", \"previous_sibling\": \"node_13_1486346882654\", \"output\": {\"action\": {\"volume_on\": \"\"}, \"text\": {\"values\": [\"It looks like the @appliance is off. I'll turn it on for you.\"]}}, \"name\": \" @appliance:volume && $volumeonoff == \\\"off\\\"\"}, {\"n_of_conversations\": 1, \"dialog_node\": \"node_7_1484792294070\", \"previous_sibling\": \"node_6_1484792250784\", \"output\": {\"action\": {\"heater_on\": \"\"}, \"text\": {\"values\": [\"It looks like the @appliance is off. I'll turn it on for you.\"]}}, \"name\": \" @appliance:heater && $heateronoff== \\\"off\\\"\"}, {\"n_of_conversations\": 0, \"dialog_node\": \"node_8_1484792633422\", \"previous_sibling\": \"node_7_1484792294070\", \"output\": {\"text\": {\"values\": [\"I've turned up the @appliance for you.\"], \"selection_policy\": \"sequential\"}}, \"name\": \"@appliance:lights && $appl_action == \\\"increase\\\" && $lightonoff== \\\"on\\\"\"}, {\"n_of_conversations\": 0, \"dialog_node\": \"node_11_1484798219507\", \"previous_sibling\": \"node_10_1484797207324\", \"output\": {\"action\": {\"music_up\": \"\"}, \"text\": {\"values\": [\"I've turned up the @appliance for you.\"]}}, \"name\": \"@appliance:music && $appl_action == \\\"increase\\\" && $musiconoff == \\\"on\\\"\"}, {\"n_of_conversations\": 0, \"dialog_node\": \"node_3_1484788233985\", \"previous_sibling\": \"node_4_1484791860569\", \"output\": {\"action\": {\"AC_on\": \"\"}, \"text\": {\"values\": [\"It looks like the @appliance is off. I'll turn it on for you.\"]}}, \"name\": \"(@appliance:AC || @appliance:fan) && $AConoff == \\\"off\\\"\"}, {\"n_of_conversations\": 0, \"dialog_node\": \"node_5_1484792124067\", \"previous_sibling\": \"node_3_1484788233985\", \"output\": {\"action\": {\"heater_up\": \"\"}, \"text\": {\"values\": [\"I've turned up the @appliance for you.\"]}}, \"name\": \"@appliance:heater && $appl_action == \\\"increase\\\" && $heateronoff== \\\"on\\\"\"}, {\"n_of_conversations\": 0, \"dialog_node\": \"node_12_1486346698626\", \"previous_sibling\": \"node_16_1484798776647\", \"output\": {\"action\": {\"volume_up\": \"\"}, \"text\": {\"values\": [\"I've turned up the @appliance for you.\"]}}, \"name\": \"@appliance:volume && $appl_action == \\\"increase\\\" && $volumeonoff == \\\"on\\\"\"}, {\"n_of_conversations\": 0, \"dialog_node\": \"node_14_1484798665243\", \"previous_sibling\": \"node_13_1484798466709\", \"output\": {\"action\": {\"wipers_up\": \"\"}, \"text\": {\"values\": [\"I've turned up the @appliance for you.\"]}}, \"name\": \"@appliance:wipers && $appl_action == \\\"increase\\\" && $wipersonoff == \\\"on\\\"\"}, {\"n_of_conversations\": 0, \"dialog_node\": \"node_15_1484798725394\", \"previous_sibling\": \"node_14_1484798665243\", \"output\": {\"action\": {\"wipers_down\": \"\"}, \"text\": {\"values\": [\"I've turned down the @appliance for you.\"]}}, \"name\": \"@appliance:wipers && $appl_action == \\\"decrease\\\" && $wipersonoff == \\\"on\\\"\"}, {\"n_of_conversations\": 0, \"dialog_node\": \"node_9_1484797153278\", \"previous_sibling\": \"node_8_1484792633422\", \"output\": {\"text\": {\"values\": [\"I've turned down the @appliance for you.\"], \"selection_policy\": \"sequential\"}}, \"name\": \" @appliance:lights && $appl_action == \\\"decrease\\\" && $lightonoff== \\\"on\\\"\"}, {\"n_of_conversations\": 0, \"dialog_node\": \"node_16_1484798776647\", \"previous_sibling\": \"node_15_1484798725394\", \"output\": {\"action\": {\"wipers_on\": \"\"}, \"text\": {\"values\": [\"It looks like the @appliance are off. I'll turn them on for you.\"]}}, \"name\": \"@appliance:wipers && $wipersonoff == \\\"off\\\"\"}, {\"n_of_conversations\": 0, \"dialog_node\": \"node_13_1484798466709\", \"previous_sibling\": \"node_12_1484798414002\", \"output\": {\"action\": {\"music_on\": \"@genre\"}, \"text\": {\"values\": [\"It looks like the @appliance is off. I'll turn it on for you.\"]}}, \"name\": \"@appliance:music && $musiconoff == \\\"off\\\"\"}, {\"n_of_conversations\": 0, \"dialog_node\": \"node_2_1484787801871\", \"name\": \"(@appliance:AC || @appliance:fan) && $appl_action == \\\"increase\\\" && $AConoff == \\\"on\\\"\", \"output\": {\"action\": {\"AC_up\": \"\"}, \"text\": {\"values\": [\"I've turned up the @appliance for you.\"]}}}], \"name\": \"Appliance Increase Decrease Check\"}, {\"n_of_conversations\": 1, \"dialog_node\": \"node_4_1485218096234\", \"children\": [{\"n_of_conversations\": 0, \"dialog_node\": \"node_11_1486346568959\", \"previous_sibling\": \"node_10_1486346567905\", \"output\": {}, \"name\": \"response_condition\"}, {\"n_of_conversations\": 1, \"dialog_node\": \"node_10_1486346567905\", \"name\": \"response_condition\", \"output\": {}}], \"name\": \"@appliance:music && ! @genre && $musiconoff == \\\"off\\\"\"}, {\"n_of_conversations\": 3, \"dialog_node\": \"Appliance On Off Check\", \"children\": [{\"n_of_conversations\": 1, \"dialog_node\": \"node_3_1484706643753\", \"previous_sibling\": \"node_2_1484705828944\", \"output\": {\"action\": {\"AC_on\": \"\"}, \"text\": {\"values\": [\"I'll turn on the @appliance for you.\"]}}, \"name\": \"(@appliance:AC || @appliance:fan) && $appl_action == \\\"on\\\"\"}, {\"n_of_conversations\": 0, \"dialog_node\": \"node_9_1484710254632\", \"previous_sibling\": \"node_8_1484710063318\", \"output\": {\"text\": {\"values\": [\"It looks like the @appliance is already off.\"], \"selection_policy\": \"sequential\"}}, \"name\": \"@appliance:heater && $appl_action == \\\"off\\\" && $heateronoff == \\\"off\\\"\"}, {\"n_of_conversations\": 0, \"dialog_node\": \"node_19_1484715884764\", \"previous_sibling\": \"node_18_1484715801015\", \"output\": {\"text\": {\"values\": [\"It looks like the wipers are already on.\"], \"selection_policy\": \"sequential\"}}, \"name\": \"@appliance:wipers && $appl_action == \\\"on\\\" && $wipersonoff== \\\"on\\\"\"}, {\"n_of_conversations\": 0, \"dialog_node\": \"node_8_1486339983890\", \"previous_sibling\": \"node_22_1484716101193\", \"output\": {\"text\": {\"values\": [\"It looks like the @appliance is already off.\"], \"selection_policy\": \"sequential\"}}, \"name\": \"@appliance:music && $appl_action == \\\"off\\\" && $musiconoff == \\\"off\\\"\"}, {\"n_of_conversations\": 0, \"dialog_node\": \"node_8_1484710063318\", \"previous_sibling\": \"node_7_1484709946048\", \"output\": {\"action\": {\"heater_on\": \"\"}, \"text\": {\"values\": [\"I'll turn on the @appliance for you.\"]}}, \"name\": \" @appliance:heater && $appl_action == \\\"on\\\"\"}, {\"n_of_conversations\": 0, \"dialog_node\": \"node_6_1484708317988\", \"previous_sibling\": \"node_4_1484708135942\", \"output\": {\"action\": {\"AC_off\": \"\"}, \"text\": {\"values\": [\"I'll turn off the @appliance for you.\"]}}, \"name\": \"(@appliance:AC || @appliance:fan) && $appl_action == \\\"off\\\"\"}, {\"n_of_conversations\": 0, \"dialog_node\": \"node_9_1486340835963\", \"previous_sibling\": \"node_8_1486339983890\", \"output\": {\"action\": {\"music_off\": \"\"}, \"text\": {\"values\": [\"I'll turn off the @appliance for you.\"]}}, \"name\": \" @appliance:music && $appl_action == \\\"off\\\"\"}, {\"n_of_conversations\": 0, \"dialog_node\": \"node_10_1484710298037\", \"previous_sibling\": \"node_9_1484710254632\", \"output\": {\"action\": {\"heater_off\": \"\"}, \"text\": {\"values\": [\"I'll turn off the @appliance for you.\"]}}, \"name\": \" @appliance:heater && $appl_action == \\\"off\\\"\"}, {\"n_of_conversations\": 0, \"dialog_node\": \"node_22_1484716101193\", \"previous_sibling\": \"node_21_1484716001727\", \"output\": {\"action\": {\"wipers_off\": \"\"}, \"text\": {\"values\": [\"I'll turn off the wipers for you.\"]}}, \"name\": \" @appliance:wipers && $appl_action == \\\"off\\\"\"}, {\"n_of_conversations\": 0, \"dialog_node\": \"node_15_1486347582355\", \"previous_sibling\": \"node_9_1486340835963\", \"output\": {\"text\": {\"values\": [\"It looks like the @appliance is already on.\"], \"selection_policy\": \"sequential\"}}, \"name\": \" @appliance:music && $appl_action == \\\"on\\\" && $musiconoff == \\\"on\\\"\"}, {\"n_of_conversations\": 0, \"dialog_node\": \"node_14_1484715527889\", \"previous_sibling\": \"node_13_1484715450226\", \"output\": {\"action\": {\"lights_off\": \"\"}, \"text\": {\"values\": [\"I'll turn off the @appliance for you.\"]}}, \"name\": \" @appliance:lights && $appl_action == \\\"off\\\"\"}, {\"n_of_conversations\": 2, \"dialog_node\": \"node_12_1484715413335\", \"previous_sibling\": \"node_11_1484715347629\", \"output\": {\"action\": {\"lights_on\": \"\"}, \"text\": {\"values\": [\"I'll turn on the @appliance for you.\"]}}, \"name\": \"@appliance:lights && $appl_action == \\\"on\\\"\"}, {\"n_of_conversations\": 0, \"dialog_node\": \"node_17_1484715731747\", \"previous_sibling\": \"node_16_1484715681801\", \"output\": {\"text\": {\"values\": [\"It looks like the @appliance is already off.\"], \"selection_policy\": \"sequential\"}}, \"name\": \"@appliance:volume && $appl_action == \\\"off\\\" && $volumeonoff ==\\\"off\\\"\"}, {\"n_of_conversations\": 0, \"dialog_node\": \"node_11_1484715347629\", \"previous_sibling\": \"node_10_1484710298037\", \"output\": {\"text\": {\"values\": [\"It looks like the lights are already on.\"], \"selection_policy\": \"sequential\"}}, \"name\": \"@appliance:lights && $appl_action == \\\"on\\\" && $lightonoff == \\\"on\\\"\"}, {\"n_of_conversations\": 0, \"dialog_node\": \"node_7_1484709946048\", \"previous_sibling\": \"node_6_1484708317988\", \"output\": {\"text\": {\"values\": [\"It looks like the @appliance is already on.\"], \"selection_policy\": \"sequential\"}}, \"name\": \"@appliance:heater && $appl_action == \\\"on\\\" && $heateronoff == \\\"on\\\"\"}, {\"n_of_conversations\": 0, \"dialog_node\": \"node_13_1484715450226\", \"previous_sibling\": \"node_12_1484715413335\", \"output\": {\"text\": {\"values\": [\"It looks like the lights are already off.\"], \"selection_policy\": \"sequential\"}}, \"name\": \"@appliance:lights && $appl_action == \\\"off\\\" && $lightonoff == \\\"off\\\"\"}, {\"n_of_conversations\": 0, \"dialog_node\": \"node_20_1484715962409\", \"previous_sibling\": \"node_19_1484715884764\", \"output\": {\"action\": {\"wipers_on\": \"\"}, \"text\": {\"values\": [\"I'll turn on the wipers for you.\"]}}, \"name\": \"@appliance:wipers && $appl_action == \\\"on\\\"\"}, {\"n_of_conversations\": 0, \"dialog_node\": \"node_4_1484708135942\", \"previous_sibling\": \"node_3_1484706643753\", \"output\": {\"text\": {\"values\": [\"It looks like the @appliance is already off.\"], \"selection_policy\": \"sequential\"}}, \"name\": \"(@appliance:AC || @appliance:fan) && $appl_action == \\\"off\\\" && $AConoff == \\\"off\\\"\"}, {\"n_of_conversations\": 0, \"dialog_node\": \"node_15_1484715602213\", \"previous_sibling\": \"node_14_1484715527889\", \"output\": {\"text\": {\"values\": [\"It looks like the @appliance is already on.\"], \"selection_policy\": \"sequential\"}}, \"name\": \"@appliance:volume && $appl_action == \\\"on\\\" && $volumeonoff ==\\\"on\\\"\"}, {\"n_of_conversations\": 0, \"dialog_node\": \"node_18_1484715801015\", \"previous_sibling\": \"node_17_1484715731747\", \"output\": {\"action\": {\"volume_off\": \"\"}, \"text\": {\"values\": [\"I'll turn on the @appliance for you.\"]}}, \"name\": \" @appliance:volume && $appl_action == \\\"off\\\"\"}, {\"n_of_conversations\": 0, \"dialog_node\": \"node_21_1484716001727\", \"previous_sibling\": \"node_20_1484715962409\", \"output\": {\"text\": {\"values\": [\"It looks like the wipers are already off.\"], \"selection_policy\": \"sequential\"}}, \"name\": \"@appliance:wipers && $appl_action == \\\"off\\\" && $wipersonoff == \\\"off\\\"\"}, {\"n_of_conversations\": 0, \"dialog_node\": \"node_16_1484715681801\", \"previous_sibling\": \"node_15_1484715602213\", \"output\": {\"action\": {\"volume_on\": \"\"}, \"text\": {\"values\": [\"I'll turn on the @appliance for you.\"]}}, \"name\": \" @appliance:volume && $appl_action == \\\"on\\\"\"}, {\"n_of_conversations\": 0, \"dialog_node\": \"node_2_1484705828944\", \"name\": \"(@appliance:AC || @appliance:fan) && $appl_action == \\\"on\\\" && $AConoff == \\\"on\\\"\", \"output\": {\"text\": {\"values\": [\"It looks like the @appliance is already on.\"], \"selection_policy\": \"sequential\"}}}], \"name\": \"Appliance On Off Check\"}, {\"n_of_conversations\": 36, \"dialog_node\": \"node_14_1467234311677\", \"children\": [], \"name\": \"$reprompt\"}, {\"n_of_conversations\": 19, \"dialog_node\": \"node_4_1469812033731\", \"children\": [], \"name\": \"true\"}, {\"n_of_conversations\": 27, \"dialog_node\": \"node_9_1468364300050\", \"children\": [], \"name\": \"@cuisine_bad\"}, {\"n_of_conversations\": 120, \"dialog_node\": \"node_13_1467234287024\", \"children\": [{\"n_of_conversations\": 0, \"dialog_node\": \"node_16_1467234390805\", \"previous_sibling\": \"node_21_1488771735577\", \"output\": {\"text\": {\"values\": [\"I found 5 locations. Which option would you like? You can say first, third, nearest and so on.\"]}}, \"name\": \"$reprompt\"}, {\"n_of_conversations\": 0, \"dialog_node\": \"node_21_1488771735577\", \"previous_sibling\": \"node_14_1489448869178\", \"output\": {}, \"name\": \"@option || @sys-number\"}, {\"n_of_conversations\": 0, \"dialog_node\": \"node_14_1489448869178\", \"name\": \"@sys-number > 5\", \"output\": {}}], \"name\": \"@cuisine\"}, {\"n_of_conversations\": 3, \"dialog_node\": \"Phone Actions\", \"children\": [{\"n_of_conversations\": 0, \"dialog_node\": \"node_18_1484802647885\", \"previous_sibling\": \"node_17_1484802639401\", \"output\": {\"text\": {\"values\": [\"I prefer not to text while I drive.\"], \"selection_policy\": \"sequential\"}}, \"name\": \"@phone:text\"}, {\"n_of_conversations\": 3, \"dialog_node\": \"node_17_1484802639401\", \"name\": \"@phone:call\", \"output\": {\"text\": \"Sorry I can't make a phone call. I must be all out of minutes!\"}}], \"name\": \"Phone Actions\"}, {\"n_of_conversations\": 24, \"dialog_node\": \"node_16_1467234390805\", \"children\": [], \"name\": \"$reprompt\"}, {\"n_of_conversations\": 6, \"dialog_node\": \"node_21_1488771735577\", \"children\": [{\"n_of_conversations\": 0, \"dialog_node\": \"node_5_1488752732864\", \"previous_sibling\": \"node_22_1488771746847\", \"output\": {\"text\": \"Sure thing! The @option restaurant gets great reviews.\"}, \"name\": \" @option\"}, {\"n_of_conversations\": 1, \"dialog_node\": \"node_6_1488752733255\", \"previous_sibling\": \"node_5_1488752732864\", \"output\": {\"text\": {\"values\": [\"Sure! Restaurant @sys-number on the list gets great reviews.\"], \"selection_policy\": \"sequential\"}}, \"name\": \" @sys-number\"}, {\"n_of_conversations\": 0, \"dialog_node\": \"node_22_1488771746847\", \"previous_sibling\": \"node_4_1489442065546\", \"output\": {}, \"name\": \"true\"}, {\"n_of_conversations\": 5, \"dialog_node\": \"node_4_1489442065546\", \"name\": \"! @sys-time && ! @sys-date\", \"output\": {\"text\": {\"values\": [\"What day/time did you want to go to the restaurant?\"], \"selection_policy\": \"sequential\"}}}], \"name\": \"@option || @sys-number\"}, {\"n_of_conversations\": 512, \"dialog_node\": \"node_8_1467233758272\", \"children\": [{\"n_of_conversations\": 255, \"dialog_node\": \"node_10_1467233806357\", \"previous_sibling\": \"node_3_1489440594933\", \"output\": {\"action\": {\"restaurant\": \"\"}, \"text\": {\"values\": [\"Of course. Do you have a specific cuisine in mind?\"]}}, \"name\": \"@amenity:restaurant\"}, {\"n_of_conversations\": 28, \"dialog_node\": \"node_5_1469821256750\", \"previous_sibling\": \"node_11_1467233815579\", \"output\": {\"text\": \"Sorry I don't have a listing for that and cannot drive you there.\"}, \"name\": \"@amenity:place\"}, {\"n_of_conversations\": 74, \"dialog_node\": \"node_11_1467233815579\", \"previous_sibling\": \"node_10_1467233806357\", \"output\": {\"action\": {\"restroom\": \"\"}, \"text\": {\"values\": [\"I've found the closest restroom stops. Which one would you like to drive to?\"]}}, \"name\": \"@amenity:restroom\"}, {\"n_of_conversations\": 33, \"dialog_node\": \"node_3_1489440594933\", \"previous_sibling\": \"node_9_1467233775768\", \"output\": {}, \"name\": \"@amenity:restaurant && @cuisine\"}, {\"n_of_conversations\": 122, \"dialog_node\": \"node_9_1467233775768\", \"name\": \"@amenity:gas\", \"output\": {\"action\": {\"gas\": \"\"}, \"text\": {\"values\": [\"There are gas stations nearby. Which one would you like to drive to?\"]}}}], \"name\": \"@amenity\"}, {\"n_of_conversations\": 6, \"dialog_node\": \"Genre On Off Check\", \"children\": [{\"n_of_conversations\": 0, \"dialog_node\": \"node_4_1484628526152\", \"previous_sibling\": \"node_3_1484628332751\", \"output\": {\"text\": {\"values\": [\"It looks like the music is already off.\"], \"selection_policy\": \"sequential\"}}, \"name\": \" $appl_action == \\\"off\\\" && $musiconoff == \\\"off\\\"\"}, {\"n_of_conversations\": 1, \"dialog_node\": \"node_3_1484628332751\", \"previous_sibling\": \"node_2_1484628272507\", \"output\": {\"action\": {\"music_on\": \"@genre\"}, \"text\": {\"values\": [\"Great choice! Playing some @genre for you.\"]}}, \"name\": \"$appl_action == \\\"on\\\"\"}, {\"n_of_conversations\": 0, \"dialog_node\": \"node_5_1484628592231\", \"previous_sibling\": \"node_4_1484628526152\", \"output\": {\"action\": {\"music_off\": \"\"}, \"text\": {\"values\": [\"I'll turn off the @genre for you.\"]}}, \"name\": \" $appl_action == \\\"off\\\"\"}, {\"n_of_conversations\": 0, \"dialog_node\": \"node_2_1484628272507\", \"name\": \"$appl_action == \\\"on\\\" && $musiconoff == \\\"on\\\"\", \"output\": {\"text\": {\"values\": [\"It looks like the music is already on.\"], \"selection_policy\": \"sequential\"}}}], \"name\": \"Genre On Off Check\"}, {\"n_of_conversations\": 15, \"dialog_node\": \"node_18_1467234505187\", \"children\": [], \"name\": \"$reprompt\"}, {\"n_of_conversations\": 8, \"dialog_node\": \"node_3_1469811993652\", \"children\": [], \"name\": \"true\"}, {\"n_of_conversations\": 1, \"dialog_node\": \"node_17_1467234455512\", \"children\": [{\"n_of_conversations\": 1, \"dialog_node\": \"node_4_1488752569375\", \"previous_sibling\": \"node_3_1488752557849\", \"output\": {\"text\": {\"values\": [\"Sure! Navigating to gas station @sys-number on the list.\"], \"selection_policy\": \"sequential\"}}, \"name\": \"@sys-number\"}, {\"n_of_conversations\": 0, \"dialog_node\": \"node_3_1488752557849\", \"name\": \"@option\", \"output\": {\"text\": \"Sure! Navigating to the @option gas station.\"}}], \"name\": \"@option || @sys-number\"}, {\"n_of_conversations\": 80, \"dialog_node\": \"node_8_1468608349230\", \"children\": [], \"name\": \"#goodbyes\"}, {\"n_of_conversations\": 186, \"dialog_node\": \"node_1_1467743415843\", \"children\": [{\"n_of_conversations\": 186, \"dialog_node\": \"node_1_1467910920863\", \"name\": \"true\", \"output\": {}}], \"name\": \"#out_of_scope || #off_topic\"}, {\"n_of_conversations\": 150, \"dialog_node\": \"node_7_1468608329601\", \"children\": [], \"name\": \"#greetings\"}, {\"n_of_conversations\": 11, \"dialog_node\": \"node_1_1537297843450\", \"children\": [], \"name\": \"not_trained\"}, {\"n_of_conversations\": 48, \"dialog_node\": \"node_2_1537212368188\", \"children\": [], \"name\": \"#connect_to_agent\"}, {\"n_of_conversations\": 64, \"dialog_node\": \"node_6_1467233590477\", \"children\": [], \"name\": \"#traffic_update\"}, {\"n_of_conversations\": 951, \"dialog_node\": \"Entry Point For On Off Commands\", \"children\": [{\"n_of_conversations\": 31, \"dialog_node\": \"node_4_1469816307739\", \"previous_sibling\": \"node_6_1469049958082\", \"output\": {\"text\": \"I can only perform one operation at a time. We can start with the first one. What would you like me to do?\"}, \"name\": \"entities.size()>1\"}, {\"n_of_conversations\": 263, \"dialog_node\": \"node_1_1467310860502\", \"previous_sibling\": \"node_2_1467232480480\", \"output\": {\"text\": \"I understand you want me to turn on something. You can say turn on the wipers or switch on the lights.\"}, \"name\": \"true\"}, {\"n_of_conversations\": 505, \"dialog_node\": \"node_2_1467232480480\", \"previous_sibling\": \"node_4_1469816307739\", \"output\": {}, \"name\": \"@appliance\"}, {\"n_of_conversations\": 39, \"dialog_node\": \"node_6_1469049958082\", \"previous_sibling\": \"node_5_1469049934217\", \"output\": {\"text\": \"Unfortunately I don't have any @genre_bad music in my collection. Try genres like jazz or rock.\"}, \"name\": \"@genre_bad\"}, {\"n_of_conversations\": 113, \"dialog_node\": \"node_5_1469049934217\", \"name\": \"@genre\", \"output\": {}}], \"name\": \"Entry Point For On Off Commands\"}, {\"n_of_conversations\": 399, \"dialog_node\": \"node_11_1468608786372\", \"children\": [], \"name\": \"#capabilities\"}, {\"n_of_conversations\": 53, \"dialog_node\": \"node_1_1537212185418\", \"children\": [], \"name\": \"#answer_not_helpful\"}, {\"n_of_conversations\": 165, \"dialog_node\": \"Entry Point For Up Down Commands\", \"children\": [{\"n_of_conversations\": 59, \"dialog_node\": \"node_12_1467233032148\", \"previous_sibling\": \"node_1_1469815492101\", \"output\": {\"text\": {\"values\": [\"I understand you want me to turn up something. You can say increase the volume or turn up the AC.\"]}}, \"name\": \"true\"}, {\"n_of_conversations\": 90, \"dialog_node\": \"node_1_1469815492101\", \"previous_sibling\": \"node_11_1467233013716\", \"output\": {}, \"name\": \"@appliance\"}, {\"n_of_conversations\": 16, \"dialog_node\": \"node_11_1467233013716\", \"name\": \"entities.size()>1\", \"output\": {\"text\": \"I can only perform one operation at a time. We can start with the first one. What would you like me to do?\"}}], \"name\": \"Entry Point For Up Down Commands\"}, {\"n_of_conversations\": 23, \"dialog_node\": \"node_1_1485920032937\", \"children\": [{\"n_of_conversations\": 0, \"dialog_node\": \"node_2_1485920042146\", \"name\": \" \", \"output\": {\"text\": {\"values\": [\"I can only perform one operation at a time. What would you like me to do?\"], \"selection_policy\": \"sequential\"}}}], \"name\": \"#compound_questions\"}, {\"n_of_conversations\": 193, \"dialog_node\": \"node_1_1467303308178\", \"children\": [], \"name\": \"#weather\"}, {\"n_of_conversations\": 1251, \"dialog_node\": \"node_7_1467233747449\", \"children\": [{\"n_of_conversations\": 85, \"dialog_node\": \"node_7_1489442674518\", \"previous_sibling\": \"node_8_1467233758272\", \"output\": {}, \"name\": \"@cuisine\"}, {\"n_of_conversations\": 19, \"dialog_node\": \"node_8_1489443200128\", \"previous_sibling\": \"node_7_1489442674518\", \"output\": {}, \"name\": \"@cuisine_bad\"}, {\"n_of_conversations\": 635, \"dialog_node\": \"node_12_1467234209966\", \"previous_sibling\": \"node_8_1489443200128\", \"output\": {\"text\": \"I understand you want me to find a location. I can find restaurants, gas stations and restrooms nearby.\"}, \"name\": \"true\"}, {\"n_of_conversations\": 512, \"dialog_node\": \"node_8_1467233758272\", \"name\": \"@amenity\", \"output\": {\"text\": {\"values\": [\"\"], \"selection_policy\": \"sequential\"}}}], \"name\": \"#locate_amenity\"}, {\"n_of_conversations\": 724, \"dialog_node\": \"node_2_1487280430136\", \"children\": [{\"n_of_conversations\": 724, \"dialog_node\": \"node_1_1467919680248\", \"name\": \"true\", \"output\": {}}], \"name\": \"anything_else\"}, {\"n_of_conversations\": 37, \"dialog_node\": \"node_14_1488760851464\", \"children\": [{\"n_of_conversations\": 37, \"dialog_node\": \"node_9_1488759175183\", \"name\": \"true\", \"output\": {}}], \"name\": \"#information_request\"}, {\"n_of_conversations\": 29, \"dialog_node\": \"node_1_1467304857249\", \"children\": [{\"n_of_conversations\": 13, \"dialog_node\": \"node_3_1467307837947\", \"previous_sibling\": \"Phone Actions\", \"output\": {\"text\": \"Sorry I haven't yet learnt to perform operations with phones.\"}, \"name\": \"true\"}, {\"n_of_conversations\": 16, \"dialog_node\": \"Phone Actions\", \"name\": \"Phone Actions\", \"output\": {}}], \"name\": \"#phone || @phone\"}, {\"n_of_conversations\": 2868, \"dialog_node\": \"Start And Initialize Context\", \"children\": [], \"name\": \"Start And Initialize Context\"}], \"name\": \"root\"}))\n",
       "        });\n",
       "        "
      ]
     },
     "metadata": {},
     "output_type": "display_data"
    }
   ],
   "source": [
    "# with open(\"children.json\", \"r\") as fl:\n",
    "#     tree2 = json.load(fl)\n",
    "with open('data/sample_logs.json') as fl:\n",
    "    logs = json.load(fl)\n",
    "workspace = utils.load_raw_workspace(\"data/workspace.json\")\n",
    "tree2 = utils.add_all_children_to_parents(workspace)\n",
    "tree2 = utils.compute_number_of_conversations(tree2, logs)\n",
    "# with open('data/tree.json', 'w') as fl:\n",
    "#     json.dump(tree2, fl)\n",
    "RenderJSON(tree2)\n"
   ]
  },
  {
   "cell_type": "code",
   "execution_count": 3,
   "metadata": {},
   "outputs": [
    {
     "name": "stdout",
     "output_type": "stream",
     "text": [
      "{'dialog_node': 'node_11_1486346568959', 'previous_sibling': 'node_10_1486346567905', 'output': {}, 'parent': 'node_4_1485218096234', 'type': 'response_condition', 'metadata': {}}\n",
      "{'dialog_node': 'node_10_1486346567905', 'output': {}, 'parent': 'node_4_1485218096234', 'context': {'appl_action': 'on'}, 'type': 'response_condition', 'metadata': {}}\n",
      "{'dialog_node': 'node_12_1489446045883', 'previous_sibling': 'node_11_1489445991375', 'output': {}, 'parent': 'node_10_1489445960772', 'type': 'response_condition', 'metadata': {}}\n"
     ]
    }
   ],
   "source": [
    "idx = 0\n",
    "for j in workspace['dialog_nodes']:\n",
    "    if 'conditions' not in j and 'title' not in j and 'response_condition' not in j:\n",
    "        print(j)\n"
   ]
  },
  {
   "cell_type": "code",
   "execution_count": 3,
   "metadata": {},
   "outputs": [],
   "source": [
    "# LOAD WORKSPACE FROM CREDENTIALS\n",
    "creds = {'username':'{username}',\n",
    "         'password': '{password}',\n",
    "         'version':'2019-02-28',\n",
    "         'url': '{url}'}\n",
    "\n",
    "service = AssistantV1(username=creds['username'],\n",
    "                      password=creds['password'],\n",
    "                      version=creds['version'],\n",
    "                      url=creds['url'])\n",
    "workspace_id = ''\n",
    "workspace = service.get_workspace(workspace_id = workspace_id, export=True).get_result()"
   ]
  },
  {
   "cell_type": "code",
   "execution_count": 4,
   "metadata": {},
   "outputs": [],
   "source": [
    "condition_list = []\n",
    "analysis_results_list = []\n",
    "intents = []\n",
    "entities = []\n",
    "dialog_nodes = []\n",
    "if 'intents' in workspace:\n",
    "    intents_list = copy.deepcopy(workspace['intents'])\n",
    "    for intent in intents_list:\n",
    "        intents.append('#' + intent.get('intent', None))\n",
    "    intents_set = set(intents)\n",
    "        \n",
    "if 'entities' in workspace:\n",
    "    entities_list = copy.deepcopy(workspace['entities'])\n",
    "    for entity in entities_list:\n",
    "        entities.append('@' + entity.get('entity', None))\n",
    "    entities_set = set(entities)\n",
    "    \n",
    "if 'dialog_nodes' in workspace:\n",
    "    dialog_nodes = copy.deepcopy(workspace['dialog_nodes'])\n",
    "    for dialog_node in dialog_nodes:\n",
    "        if 'conditions' in dialog_node:\n",
    "            condition_list.append((dialog_node['dialog_node'], dialog_node['conditions']))"
   ]
  },
  {
   "cell_type": "code",
   "execution_count": 5,
   "metadata": {},
   "outputs": [],
   "source": [
    "# BROKEN INTENTS and NOT USED INTENTS\n",
    "dialog_node_intents = []\n",
    "for node, condition in condition_list:\n",
    "    intent_list = re.findall(r'#[\\w-]*',condition)\n",
    "    dialog_node_intents.append((node, intent_list))\n",
    "\n",
    "# check if all intents in dialog_node_intents are exists in intents_set\n",
    "problematic_dialog_node_intents = []\n",
    "not_used_intents = set()\n",
    "for dialog_node, dialog_node_intents_list in dialog_node_intents:\n",
    "    for node_intent in dialog_node_intents_list:\n",
    "        if node_intent not in intents_set:\n",
    "            problematic_dialog_node_intents.append((dialog_node, node_intent))\n",
    "        else:\n",
    "            not_used_intents.add(node_intent)\n",
    "            \n",
    "not_used_intents = intents_set - not_used_intents\n",
    "not_used_intents = list(sorted(not_used_intents))\n",
    "analysis_results_list.append({'analysis_name': \"Broken intents in nodes conditions analysis\", 'description': \"intent from a condition not found in workspace's intents\", 'result_data': problematic_dialog_node_intents})\n",
    "analysis_results_list.append({'analysis_name': \"Not used intents in nodes conditions analysis\", 'description': \"intent from a condition not found in workspace's intents\", 'result_data': not_used_intents})"
   ]
  },
  {
   "cell_type": "code",
   "execution_count": 6,
   "metadata": {},
   "outputs": [],
   "source": [
    "# BROKEN ENTITIES\n",
    "dialog_node_entities = []\n",
    "for node, condition in condition_list:\n",
    "    entity_list = re.findall(r'@[\\w-]*', condition)\n",
    "    dialog_node_entities.append((node, entity_list))\n",
    "\n",
    "# chech if all entities in dialog_node_entities are exists in entities_set\n",
    "problematic_dialog_node_entities = []\n",
    "for dialog_node, dialog_node_entities_list in dialog_node_entities:\n",
    "    for node_entity in dialog_node_entities_list:\n",
    "        if node_entity not in entities_set:\n",
    "            problematic_dialog_node_entities.append((dialog_node, node_entity))\n",
    "\n",
    "analysis_results_list.append({'analysis_name': \"Broken entities in nodes conditions analysis\", 'description': \"entity from a condition not found in workspace's entities\", 'result_data': problematic_dialog_node_entities})"
   ]
  },
  {
   "cell_type": "code",
   "execution_count": 7,
   "metadata": {
    "collapsed": true
   },
   "outputs": [
    {
     "name": "stdout",
     "output_type": "stream",
     "text": [
      "-------------------RESULTS-------------------\n",
      "analysis number  1\n",
      "analysis name:  Broken intents in nodes conditions analysis\n",
      "description:  intent from a condition not found in workspace's intents\n",
      "n. errors:  0\n",
      "---------------------------------------------\n",
      "analysis number  2\n",
      "analysis name:  Not used intents in nodes conditions analysis\n",
      "description:  intent from a condition not found in workspace's intents\n",
      "n. errors:  7\n",
      "ERROR:  #decision_replies\n",
      "ERROR:  #interface_interactions\n",
      "ERROR:  #interface_issues\n",
      "ERROR:  #navigation\n",
      "ERROR:  #positive_reaction\n",
      "ERROR:  #selections\n",
      "ERROR:  #system_reliance\n",
      "---------------------------------------------\n",
      "analysis number  3\n",
      "analysis name:  Broken entities in nodes conditions analysis\n",
      "description:  entity from a condition not found in workspace's entities\n",
      "n. errors:  0\n",
      "---------------------------------------------\n"
     ]
    }
   ],
   "source": [
    "print(\"-------------------RESULTS-------------------\")\n",
    "for count, analysis_errors in enumerate(analysis_results_list):\n",
    "    \n",
    "    print(\"analysis number \", count+1)\n",
    "    print(\"analysis name: \", analysis_errors['analysis_name'])\n",
    "    print(\"description: \", analysis_errors['description'])\n",
    "    print(\"n. errors: \", len(analysis_errors['result_data']))\n",
    "    for error in analysis_errors['result_data']:\n",
    "        print(\"ERROR: \", error)\n",
    "    print('-'*45)"
   ]
  },
  {
   "cell_type": "code",
   "execution_count": 17,
   "metadata": {},
   "outputs": [
    {
     "name": "stdout",
     "output_type": "stream",
     "text": [
      "145\n",
      "145\n"
     ]
    }
   ],
   "source": [
    "\n"
   ]
  },
  {
   "cell_type": "code",
   "execution_count": null,
   "metadata": {},
   "outputs": [],
   "source": []
  },
  {
   "cell_type": "code",
   "execution_count": null,
   "metadata": {},
   "outputs": [],
   "source": []
  }
 ],
 "metadata": {
  "kernelspec": {
   "display_name": "Python 3",
   "language": "python",
   "name": "python3"
  },
  "language_info": {
   "codemirror_mode": {
    "name": "ipython",
    "version": 3
   },
   "file_extension": ".py",
   "mimetype": "text/x-python",
   "name": "python",
   "nbconvert_exporter": "python",
   "pygments_lexer": "ipython3",
   "version": "3.5.2"
  }
 },
 "nbformat": 4,
 "nbformat_minor": 2
}
